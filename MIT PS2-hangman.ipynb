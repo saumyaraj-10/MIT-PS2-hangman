{
 "cells": [
  {
   "cell_type": "code",
   "execution_count": 1,
   "metadata": {},
   "outputs": [],
   "source": [
    "import random\n",
    "import numpy as np\n",
    "import pandas as pd\n",
    "import random"
   ]
  },
  {
   "cell_type": "code",
   "execution_count": 2,
   "metadata": {},
   "outputs": [],
   "source": [
    "words=open(r\"C:\\Users\\s156924\\Documents\\Personal\\DS\\Books\\ps2\\words.txt\",\"r\")\n",
    "x=words.read()"
   ]
  },
  {
   "cell_type": "code",
   "execution_count": 3,
   "metadata": {},
   "outputs": [],
   "source": [
    "def comp_word():\n",
    "    rand_startingpoint=random.randint(1,len(x))\n",
    "    first_blank=rand_startingpoint+x[rand_startingpoint:].find(' ')\n",
    "    second_blank=first_blank+x[first_blank+1:].find(' ')\n",
    "    return x[first_blank+1:second_blank+1]"
   ]
  },
  {
   "cell_type": "code",
   "execution_count": 4,
   "metadata": {},
   "outputs": [
    {
     "name": "stdout",
     "output_type": "stream",
     "text": [
      "I am thinking of a word that is  8  letters long.\n"
     ]
    }
   ],
   "source": [
    "secret_word=comp_word()\n",
    "print('I am thinking of a word that is ',len(secret_word),\" letters long.\")"
   ]
  },
  {
   "cell_type": "code",
   "execution_count": 5,
   "metadata": {},
   "outputs": [],
   "source": [
    "def is_word_guessed(secret_word,letters_guessed):\n",
    "    if len(secret_word)==len(letters_guessed):\n",
    "        for num in np.arange(len(letters_guessed)):\n",
    "            if secret_word[num]==letters_guessed[num]:\n",
    "                test=True\n",
    "                continue\n",
    "            else:\n",
    "                test=False\n",
    "                break\n",
    "    else:\n",
    "        test=False\n",
    "    return test"
   ]
  },
  {
   "cell_type": "code",
   "execution_count": 6,
   "metadata": {},
   "outputs": [],
   "source": [
    "def findOccurrences(s, ch):\n",
    "    return [i for i, letter in enumerate(s) if letter == ch]"
   ]
  },
  {
   "cell_type": "code",
   "execution_count": 7,
   "metadata": {},
   "outputs": [],
   "source": [
    "import string\n",
    "lower_alphabet=string.ascii_lowercase\n",
    "def get_available_letters(letters_guessed,lower_alphabet):\n",
    "    for letter in letters_guessed:\n",
    "        lower_alphabet=lower_alphabet.replace(letter,'')\n",
    "    return lower_alphabet\n",
    "\n",
    "vowels='aeiou'\n",
    "consonants=str(lower_alphabet)\n",
    "for char in vowels:\n",
    "    consonants=consonants.replace(char,'')"
   ]
  },
  {
   "cell_type": "code",
   "execution_count": 8,
   "metadata": {},
   "outputs": [],
   "source": [
    "def get_guessed_word_1(secret_word,letters_guessed,guessed_string,num_guesses):\n",
    "    num_guesses=num_guesses\n",
    "    letters_guessed=letters_guessed\n",
    "    guessed_string=guessed_string\n",
    "    letter=letters_guessed[-1]\n",
    "    list_pos=[]\n",
    "    list_pos=findOccurrences(secret_word, letter)\n",
    "    if len(list_pos)>0:\n",
    "        for x in list_pos:\n",
    "            guessed_string=guessed_string[:x]+letter+guessed_string[x+1:] \n",
    "        print(\"Good guess: \",guessed_string)\n",
    "    else:\n",
    "        print(\"Oops! That letter is not in my word:\",guessed_string)\n",
    "        if letter in vowels: \n",
    "            num_guesses+=2\n",
    "        else:\n",
    "            num_guesses+=1\n",
    "    return guessed_string,num_guesses"
   ]
  },
  {
   "cell_type": "code",
   "execution_count": 9,
   "metadata": {},
   "outputs": [
    {
     "ename": "SyntaxError",
     "evalue": "unexpected EOF while parsing (<ipython-input-9-df83515d234b>, line 47)",
     "output_type": "error",
     "traceback": [
      "\u001b[1;36m  File \u001b[1;32m\"<ipython-input-9-df83515d234b>\"\u001b[1;36m, line \u001b[1;32m47\u001b[0m\n\u001b[1;33m    print(\"Sorry you lost. You guessed \",guessed_string,\",secret word was \",secret_wor\u001b[0m\n\u001b[1;37m                                                                                      ^\u001b[0m\n\u001b[1;31mSyntaxError\u001b[0m\u001b[1;31m:\u001b[0m unexpected EOF while parsing\n"
     ]
    }
   ],
   "source": [
    "def hangman(comp_word=comp_word,guesses=6):\n",
    "    secret_word=comp_word()\n",
    "    print(secret_word)\n",
    "    guesses=guesses\n",
    "    warnings=0\n",
    "    print('Welcome to the game Hangman!')\n",
    "    print('I am thinking of a word that is ',len(secret_word),\" letters long.\")\n",
    "    print('--------------------')\n",
    "    num_guesses=0\n",
    "    letters_guessed=[]\n",
    "    guessed_string='_'*len(secret_word)\n",
    "    while num_guesses<guesses:\n",
    "        print(\"you have \",(guesses-num_guesses),\" guesses left\")\n",
    "        avail_letters=get_available_letters(letters_guessed,lower_alphabet)\n",
    "        print(\"Available letters: \",avail_letters)\n",
    "        guessed_letter=input(\"Please guess a letter: \")\n",
    "        if (guessed_letter.isalpha()==False):\n",
    "            if (warnings<3):\n",
    "                warnings+=1\n",
    "            elif warnings>=3:\n",
    "                num_guesses+=1\n",
    "            print(\"you can only enter alphabets\")\n",
    "            print(\"you have \",3-warnings,\" warnings left\")\n",
    "            continue\n",
    "            \n",
    "        elif (guessed_letter not in avail_letters):\n",
    "            if (warnings<3):\n",
    "                warnings+=1\n",
    "            elif (warnings>=3):\n",
    "                num_guesses+=1\n",
    "            print(\"already guessed this letter before\")\n",
    "            print(\"you have \",3-warnings,\" warnings left\")\n",
    "            continue\n",
    "            \n",
    "        else:\n",
    "            letters_guessed.append(guessed_letter)\n",
    "            guessed_string,num_guesses=get_guessed_word_1(secret_word,letters_guessed,guessed_string,num_guesses)\n",
    "            print('-----------------------------')\n",
    "            \n",
    "        if secret_word==guessed_string:\n",
    "            break\n",
    "        else:\n",
    "            continue\n",
    "    if secret_word==guessed_string:\n",
    "            print(\"Congratulations you won! You guessed \",guessed_string,\",secret word was \",secret_word,\".Your score is \",(guesses-num_guesses)*len((set(list(secret_word)))))\n",
    "    else:\n",
    "        print(\"Sorry you lost. You guessed \",guessed_string,\",secret word was \",secret_wor"
   ]
  },
  {
   "cell_type": "code",
   "execution_count": null,
   "metadata": {},
   "outputs": [],
   "source": [
    "hangman()"
   ]
  },
  {
   "cell_type": "code",
   "execution_count": null,
   "metadata": {},
   "outputs": [],
   "source": []
  },
  {
   "cell_type": "code",
   "execution_count": null,
   "metadata": {},
   "outputs": [],
   "source": []
  },
  {
   "cell_type": "code",
   "execution_count": null,
   "metadata": {},
   "outputs": [],
   "source": []
  },
  {
   "cell_type": "code",
   "execution_count": null,
   "metadata": {},
   "outputs": [],
   "source": []
  },
  {
   "cell_type": "code",
   "execution_count": null,
   "metadata": {},
   "outputs": [],
   "source": []
  },
  {
   "cell_type": "code",
   "execution_count": null,
   "metadata": {},
   "outputs": [],
   "source": []
  },
  {
   "cell_type": "code",
   "execution_count": null,
   "metadata": {},
   "outputs": [],
   "source": []
  },
  {
   "cell_type": "code",
   "execution_count": null,
   "metadata": {},
   "outputs": [],
   "source": []
  },
  {
   "cell_type": "code",
   "execution_count": null,
   "metadata": {},
   "outputs": [],
   "source": []
  },
  {
   "cell_type": "code",
   "execution_count": null,
   "metadata": {},
   "outputs": [],
   "source": []
  }
 ],
 "metadata": {
  "kernelspec": {
   "display_name": "Python 3",
   "language": "python",
   "name": "python3"
  },
  "language_info": {
   "codemirror_mode": {
    "name": "ipython",
    "version": 3
   },
   "file_extension": ".py",
   "mimetype": "text/x-python",
   "name": "python",
   "nbconvert_exporter": "python",
   "pygments_lexer": "ipython3",
   "version": "3.7.3"
  }
 },
 "nbformat": 4,
 "nbformat_minor": 2
}
